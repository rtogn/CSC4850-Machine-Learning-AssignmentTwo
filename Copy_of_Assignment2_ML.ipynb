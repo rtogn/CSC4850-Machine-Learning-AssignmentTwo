{
  "nbformat": 4,
  "nbformat_minor": 0,
  "metadata": {
    "colab": {
      "provenance": [],
      "include_colab_link": true
    },
    "kernelspec": {
      "name": "python3",
      "display_name": "Python 3"
    },
    "language_info": {
      "name": "python"
    }
  },
  "cells": [
    {
      "cell_type": "markdown",
      "metadata": {
        "id": "view-in-github",
        "colab_type": "text"
      },
      "source": [
        "<a href=\"https://colab.research.google.com/github/rtogn/CSC4850-Machine-Learning-AssignmentTwo/blob/main/Copy_of_Assignment2_ML.ipynb\" target=\"_parent\"><img src=\"https://colab.research.google.com/assets/colab-badge.svg\" alt=\"Open In Colab\"/></a>"
      ]
    },
    {
      "cell_type": "markdown",
      "source": [
        "# CSC 4850 / 6850 / DSCI 4850 - Assisgment 2 - (350/400 points)\n",
        "\n",
        "**Total points (350 undergraduate / 400 graduate)**\n",
        "\n",
        "**Student Name: (write your name here)**\n",
        "\n",
        "**Graduate / Undergraduate (select one)**\n",
        "\n",
        "## Instructions:\n",
        "\n",
        "You are to make a copy of this notebook on your own Google Drive (if you don't have one, get one, it is free), and use the exact format provided. Any code needs to go in the code cells, and any 'text' answer/description needs to go in the proper text cell. We will not be looking for answers randomly placed so please read the instructions.\n",
        "\n",
        "You are to use only the libraries provided in the next code cell. Any additional library is NOT allowed and will cause you to lose all the points that use said library's functions/functionality. You can use any functions given in the class code examples, but be very very careful of lifting anything \n",
        "'as-is' from the internet as it will be considerered plagiarism. \n",
        "\n",
        "**IMPORTANT: Make sure you use 1234 for your randomseed/random state. Failure to do so will make your answers not comparable to the answer key and you will get a zero on the whole assignment.**\n",
        "\n",
        "## Submission format:\n",
        "\n",
        "The submission for Assignment two will have two components:\n",
        "\n",
        "1) You are to create a PDF from the PRINT out of this notebook with all cells executed sequentially. It is the student's responsibility to be able to do this and no excuses will be accepted, no legible PDF = zero grade. So practice and test before submission time. This PDF should be named LastName_FirstName-Assignment2.PDF\n",
        "\n",
        "2) The student should create a GitHub repository for this assignment and properly title the repository Class_CODE-ClassName-AssignmentTwo. This repository should have a readme file and the Google Colab notebook in it. Note that colab can save a copy directly to GitHub so make sure you test this. Downloading the notebook file and uploading it directly will result in 200 points deduction. The link to your GitHub repository should be included as text/message in the iCollege submission drop, failure to include this link will result in a 100 point penalty. \n",
        "\n",
        "## Extra Credit for all:\n",
        "\n",
        "Any student can get 50 extra credit points by doing two simple things (you need to do BOTH):\n",
        "\n",
        "1) Make nice and pretty plots (only using the provided packages!)\n",
        "\n",
        "2) Make your GitHub repo professional (this includes your own landing page as well). Examples: https://github.com/abhisheknaiidu/awesome-github-profile-readme\n",
        "\n",
        "\n",
        "Remember that you will need a portfolio for your job search, and a professional looking repo will certainly impress recruiters/interviewers. So this is more of a favor to yourself! (yes, I follow this myself: https://github.com/jmbanda)\n"
      ],
      "metadata": {
        "id": "Uc3L9tKWVV4g"
      }
    },
    {
      "cell_type": "code",
      "execution_count": 3,
      "metadata": {
        "id": "PjGD5VGFVS-s"
      },
      "outputs": [],
      "source": [
        "############## These are the only imports allowed to solve this homework, so make sure you do not add anything else down below\n",
        "\n",
        "%matplotlib inline\n",
        "\n",
        "import numpy as np\n",
        "import pandas as pd\n",
        "import sklearn \n",
        "import numpy as np\n",
        "import matplotlib.pyplot as plt\n",
        "import seaborn as sns; sns.set()\n",
        "from sklearn.model_selection import train_test_split"
      ]
    },
    {
      "cell_type": "markdown",
      "source": [
        "Using the Wine dataset from sklearn:"
      ],
      "metadata": {
        "id": "89_ilQegV-MS"
      }
    },
    {
      "cell_type": "code",
      "source": [
        "#get the wine dataset from sklearn and take a look at the description provided\n",
        "from sklearn import datasets\n",
        "wine = datasets.load_wine()\n",
        "\n",
        "#Declare seed to use throughout project\n",
        "seed= 1234"
      ],
      "metadata": {
        "id": "J_sakm7HV90A"
      },
      "execution_count": 4,
      "outputs": []
    },
    {
      "cell_type": "markdown",
      "source": [
        "# Question 1 (10 points)\n",
        "\n",
        "What can you say about the dataset (use code to descirbe it)? any particular things of interest? Find at least two things that you find interesting."
      ],
      "metadata": {
        "id": "0TLvYCXVbHN9"
      }
    },
    {
      "cell_type": "code",
      "source": [
        "##### Code block for Question 1\n",
        "# IDK anything about sklearn so step 1 was figure out what this even is:\n",
        "print(type(wine))\n",
        "# which gives '<class 'sklearn.utils.Bunch'>' which leads to https://scikit-learn.org/stable/modules/generated/sklearn.utils.Bunch.html\n",
        "# From here I can plug in some calls and start to get an idea of whats going on. \n",
        "# .keys() lists some elements of the dataset which can be plugged into get a list of features for example:\n",
        "wine.keys()\n",
        "\n",
        "# Names of the attributes contained in the dataset\n",
        "feature_names = wine['feature_names']\n",
        "# This frame key does not appear to contain any information\n",
        "frame = wine['frame']\n",
        "# Names of the classes contained in the dataset\n",
        "target_names = wine['target_names']\n",
        "# Helpful text info about the dataset...except that it lies sometimes. \n",
        "info = wine['DESCR']\n",
        "#target is the target class for each data row?\n",
        "predictions = wine['target']\n",
        "\n",
        "# After that I went through and printed out each item to see what it did. I left them commented out after use in some cases.\n",
        "print(feature_names)\n",
        "#print(data)\n",
        "#print(info)\n",
        "data = wine['data']\n",
        "print(data.shape)\n",
        "#print(info)\n",
        "# The info section notes \":Number of Instances: 178 (50 in each of three classes)\" which neither adds up nor is true. \n",
        "# The real class counts are {0: 59, 1: 71, 2: 48}\n",
        "unique, counts = np.unique(predictions, return_counts=True)\n",
        "print(\"Instances of each class: \")\n",
        "print(dict(zip(unique, counts)))\n",
        "\n",
        "\n",
        "# Get instance of where class 2 starts so i can exclude it \n",
        "# Completely takes advantage of the classes being pre-sorted\n",
        "index_class_2 = -1\n",
        "for i in range(0, len(predictions)):\n",
        "  if predictions[i] == 2:\n",
        "    index_class_2 = i\n",
        "    break\n",
        "print(index_class_2)"
      ],
      "metadata": {
        "id": "ZIxSrPxmbGYZ",
        "colab": {
          "base_uri": "https://localhost:8080/"
        },
        "outputId": "7b93a0f6-09e8-4807-a4d5-f05f05999abf"
      },
      "execution_count": 5,
      "outputs": [
        {
          "output_type": "stream",
          "name": "stdout",
          "text": [
            "<class 'sklearn.utils.Bunch'>\n",
            "['alcohol', 'malic_acid', 'ash', 'alcalinity_of_ash', 'magnesium', 'total_phenols', 'flavanoids', 'nonflavanoid_phenols', 'proanthocyanins', 'color_intensity', 'hue', 'od280/od315_of_diluted_wines', 'proline']\n",
            "(178, 13)\n",
            "Instances of each class: \n",
            "{0: 59, 1: 71, 2: 48}\n",
            "130\n"
          ]
        }
      ]
    },
    {
      "cell_type": "markdown",
      "source": [
        "The data portion of the set contains 178 samples with 13 attributes. There is a predictions set wtih 178 classes labeled 0,1 and 2 for each class of wine. \n",
        "\n",
        "The description that comes with the dataset (under the 'DESC' key) notes that there are 50 of each class which is not true. The classes count to 59, 71 and 48 respectively to a total of 178.\n",
        "\n",
        "I noticed that all class labels were pre-sorted which is helpful. This is a fairly small dataset overall at 178 samples. \n",
        "---\n",
        "\n"
      ],
      "metadata": {
        "id": "Od1B4oGdbaSC"
      }
    },
    {
      "cell_type": "markdown",
      "source": [
        "# Question 2 (10 points)\n",
        "\n",
        "Remove class_2, so it becomes a binary problem now. Split the dataset into a testing and a training set using 65% of the data for training and the rest for testing. Use the built-in sklearn functionality for this, any other way will not be graded."
      ],
      "metadata": {
        "id": "Hl5dZFu7lDg5"
      }
    },
    {
      "cell_type": "code",
      "source": [
        "##### Code block for Question 2\n",
        "# Take slices of data without class 2. Did this by reference, I'm sure there is a fancy boy scipi/numpy way to exclude. \n",
        "X = data[0:index_class_2] # Big X is all the data rows each 13 long. \n",
        "y = predictions[0:index_class_2] # Predicted result values. \n",
        "\n",
        "if 2 in y:\n",
        "  print(\"Time to panic, you still have instances of class 2\")\n",
        "\n",
        "# Without class 2 there should be 130 rows. \n",
        "print(X.shape)\n",
        "print(y.shape)\n",
        "\n",
        "# Split up into training and test arrays with sklearn\n",
        "# https://scikit-learn.org/stable/modules/generated/sklearn.model_selection.train_test_split.html\n",
        "X_train, X_test, y_train, y_test = train_test_split(X, y, test_size=0.35, random_state=seed)\n",
        "\n",
        "# Check shapes of partitions\n",
        "splits = {'X_train':X_train, 'X_test':X_test, 'y_train':y_train, 'y_test':y_test}\n",
        "for key,val in splits.items():\n",
        "  print(\"Shape of \" + key + \": \" + str(val.shape))\n"
      ],
      "metadata": {
        "id": "QDAUtNuAlUyI",
        "colab": {
          "base_uri": "https://localhost:8080/"
        },
        "outputId": "a53b91a2-9c46-4dbe-e1a5-5c6010c1c997"
      },
      "execution_count": 6,
      "outputs": [
        {
          "output_type": "stream",
          "name": "stdout",
          "text": [
            "(130, 13)\n",
            "(130,)\n",
            "Shape of X_train: (84, 13)\n",
            "Shape of X_test: (46, 13)\n",
            "Shape of y_train: (84,)\n",
            "Shape of y_test: (46,)\n"
          ]
        }
      ]
    },
    {
      "cell_type": "markdown",
      "source": [
        "# Question 3 (30 points)\n",
        "\n",
        "Use the perceptron algorithm (with default settings and the correct seed) to build a model on the training set and report the model's accuracy."
      ],
      "metadata": {
        "id": "V6grDh8FlVtS"
      }
    },
    {
      "cell_type": "code",
      "source": [
        "##### Code block for Question 3\n",
        "from sklearn.linear_model import Perceptron\n",
        "my_perceptron = Perceptron(tol=1e-3, random_state=seed)\n",
        "my_perceptron.fit(X_train, y_train)\n",
        "print(\"Score/accuracy for perceptron on testing data: \" +  str(my_perceptron.score(X_test, y_test)))\n"
      ],
      "metadata": {
        "id": "OAmTADedkDN0",
        "colab": {
          "base_uri": "https://localhost:8080/"
        },
        "outputId": "b162d47b-eebb-4f4a-ab35-58df103c673b"
      },
      "execution_count": 7,
      "outputs": [
        {
          "output_type": "stream",
          "name": "stdout",
          "text": [
            "Score/accuracy for perceptron on testing data: 0.6739130434782609\n"
          ]
        }
      ]
    },
    {
      "cell_type": "markdown",
      "source": [
        "# Question 4 (20 points)\n",
        "\n",
        "Show the classification report for the built model. In the text cell, following the code block for question 4, descibe what findings can be infered from the classification report. Mention at least 3 observations."
      ],
      "metadata": {
        "id": "UDBERCfzkTIK"
      }
    },
    {
      "cell_type": "code",
      "source": [
        "##### Code block for Question 4\n",
        "from sklearn.metrics import classification_report\n",
        "\"\"\"\n",
        "https://scikit-learn.org/stable/modules/generated/sklearn.metrics.classification_report.html\n",
        "sklearn.metrics.classification_report(y_true, y_pred, *, labels=None, target_names=None, \n",
        "sample_weight=None, digits=2, output_dict=False, zero_division='warn')[source]\n",
        "\"\"\"\n",
        "y_predictions = my_perceptron.predict(X_test)\n",
        "#print(y_predictions)\n",
        "wine_class_names = target_names[0:2]\n",
        "print(classification_report(y_test, y_predictions, target_names=wine_class_names))"
      ],
      "metadata": {
        "id": "OlQED2C0kSQ-",
        "colab": {
          "base_uri": "https://localhost:8080/"
        },
        "outputId": "f54d118d-a760-4d6e-d0f2-8c09a998c2e1"
      },
      "execution_count": 8,
      "outputs": [
        {
          "output_type": "stream",
          "name": "stdout",
          "text": [
            "              precision    recall  f1-score   support\n",
            "\n",
            "     class_0       1.00      0.21      0.35        19\n",
            "     class_1       0.64      1.00      0.78        27\n",
            "\n",
            "    accuracy                           0.67        46\n",
            "   macro avg       0.82      0.61      0.57        46\n",
            "weighted avg       0.79      0.67      0.60        46\n",
            "\n"
          ]
        }
      ]
    },
    {
      "cell_type": "markdown",
      "source": [
        " Overall the raw acuracy is OK, but the recall for class_0 on the training data is pretty awful. The recal is well under 50% for Class_0. \n",
        "\n",
        "The 'swap' between precision and recall between each class is interesting. It appears to be working well in one aspect for each class. for C_0 at least the model is poor at finding the aggregate of positive classes. \n",
        "\n",
        " The F1-scores arent too bad looking as they are being carried by the scores of 1 for precision and recall for each calss. Overall the macro averages aren't too bad as well sitting around 75% except for the f1 scores. \n"
      ],
      "metadata": {
        "id": "axlGZ10EkumL"
      }
    },
    {
      "cell_type": "markdown",
      "source": [
        "# Question 5 (30 points)\n",
        "\n",
        "Use the trained model to make predictions on the test set. Output AND plot the confusion matrix from the model's predictions. \n",
        "\n",
        "In the second code cell, plot side by side: On the left side, the test set and its labels (using features Alcohol as the X axis and Alcalinity of Ash as the Y axis) with each point colored depending its class label. On the right side, the actual predictions (use the same Alcohol as the X axis and Alcalinity of Ash as the Y axis) with each point colored depending on its class label."
      ],
      "metadata": {
        "id": "D5FbmbFolUE-"
      }
    },
    {
      "cell_type": "code",
      "source": [
        "##### Code block for Question 5 - part \n",
        "from sklearn.metrics import confusion_matrix\n",
        "from sklearn.metrics._plot.confusion_matrix import ConfusionMatrixDisplay\n",
        "#print(y_test_predictions)\n",
        "conf_mat_1 = confusion_matrix(y_test, y_predictions)\n",
        "print(conf_mat_1)\n",
        "\n",
        "# Plotting of conf matrix\n",
        "conf_mat_1_display = ConfusionMatrixDisplay(confusion_matrix=conf_mat_1, display_labels=wine_class_names)\n",
        "conf_mat_1_display.plot()"
      ],
      "metadata": {
        "id": "7-wRvWY7mvJ4",
        "colab": {
          "base_uri": "https://localhost:8080/",
          "height": 338
        },
        "outputId": "34100229-45d8-47b3-cbe9-c53b5430269f"
      },
      "execution_count": 9,
      "outputs": [
        {
          "output_type": "stream",
          "name": "stdout",
          "text": [
            "[[ 4 15]\n",
            " [ 0 27]]\n"
          ]
        },
        {
          "output_type": "execute_result",
          "data": {
            "text/plain": [
              "<sklearn.metrics._plot.confusion_matrix.ConfusionMatrixDisplay at 0x7f9f561d49a0>"
            ]
          },
          "metadata": {},
          "execution_count": 9
        },
        {
          "output_type": "display_data",
          "data": {
            "text/plain": [
              "<Figure size 432x288 with 2 Axes>"
            ],
            "image/png": "[encoded data removed]"
          },
          "metadata": {}
        }
      ]
    },
    {
      "cell_type": "code",
      "source": [
        "##### Code block for Question 5 - part 2\n",
        "#X_test, y_test \n",
        "alch_i = 0\n",
        "ash_i = 3\n",
        "alch_test_X = X_test[:, alch_i]\n",
        "ash_test_X = X_test[:, ash_i]\n",
        "\n",
        "\n",
        "f, (ax1, ax2) = plt.subplots(1, 2, sharey=False, figsize=(10,4))\n",
        "ax1.scatter(alch_test_X, ash_test_X, c=y_test, s=50, cmap='rainbow', edgecolor=\"blue\")\n",
        "ax1.set_title('Alcalinity vs Alchohol w/ Labels')\n",
        "\n",
        "\n",
        "ax2.scatter(alch_test_X, ash_test_X, c=y_predictions, s=50, cmap='rainbow', edgecolor=\"black\")  \n",
        "ax2.set_title('Alcalinity vs Alchohol w/ Predictions')\n"
      ],
      "metadata": {
        "id": "y-pa14x0myPD",
        "colab": {
          "base_uri": "https://localhost:8080/",
          "height": 301
        },
        "outputId": "4a8dcbf3-3ce4-4445-a8f7-238719081c33"
      },
      "execution_count": 10,
      "outputs": [
        {
          "output_type": "execute_result",
          "data": {
            "text/plain": [
              "Text(0.5, 1.0, 'Alchalinity vs Alchohol w/ Predictions')"
            ]
          },
          "metadata": {},
          "execution_count": 10
        },
        {
          "output_type": "display_data",
          "data": {
            "text/plain": [
              "<Figure size 720x288 with 2 Axes>"
            ],
            "image/png": "[encoded data removed]"
          },
          "metadata": {}
        }
      ]
    },
    {
      "cell_type": "markdown",
      "source": [
        "# Question 6 (10 points) \n",
        "\n",
        "a) Do the plot right plot on Question 5 - part 2 match the confusion matrix of part 1?\n",
        "\n",
        "b) Any interesting observations from the predictions and the model performance? (write at least 2)"
      ],
      "metadata": {
        "id": "d0uKcXIWm2gZ"
      }
    },
    {
      "cell_type": "markdown",
      "source": [
        "Textual answer to question 6 a goes here:<br>\n",
        "Yes. There are 4 distinctly labeled items which matches the TT portion of the confusion matrix which also was a count of 4. "
      ],
      "metadata": {
        "id": "fUv67lIDnQVt"
      }
    },
    {
      "cell_type": "markdown",
      "source": [
        "Textual answer to question 6 b goes here. <br>\n",
        "This classifier is not particuarily good, at least in the context of this dataset. It is only correctly identifying 4 members of one of the classes. It would be more effective to to a linear separation on alchohol and ash with a line at ~12.8, looking just at this test data at least. I changed around the seed as well and it interestingly did much better with different splits. Overall, I think this data just is not easily seperable by this type of algorithm.  "
      ],
      "metadata": {
        "id": "vekeBSBBnS8d"
      }
    },
    {
      "cell_type": "markdown",
      "source": [
        "# Question 7 (10 points)\n",
        "\n",
        "Reload the Wine dataset and split the dataset into a testing and a training set using 65% of the data for training and the rest for testing. Use the built-in sklearn functionality for this, any other way will not be graded."
      ],
      "metadata": {
        "id": "5FAvUA_LptZA"
      }
    },
    {
      "cell_type": "code",
      "source": [
        "##### Code block for Question 7\n",
        "wine_dt = datasets.load_wine()\n",
        "Xdt = wine_dt['data']\n",
        "ydt = wine_dt['target']\n",
        "Xdt_train, Xdt_test, ydt_train, ydt_test = train_test_split(Xdt, ydt, test_size=0.35, random_state=seed)\n"
      ],
      "metadata": {
        "id": "OVEa6yRHpsVp"
      },
      "execution_count": 11,
      "outputs": []
    },
    {
      "cell_type": "markdown",
      "source": [
        "# Question 8 (30 points)\n",
        "\n",
        "Use the Decision Tree algorithm (with default settings and the correct seed) to build a model on the training set and report the model's accuracy."
      ],
      "metadata": {
        "id": "7GCTkGwOqFP7"
      }
    },
    {
      "cell_type": "code",
      "source": [
        "##### Code block for Question 8\n",
        "from sklearn.tree import DecisionTreeClassifier\n",
        "dtree = DecisionTreeClassifier(random_state=seed)\n",
        "dtree.fit(Xdt_train, ydt_train)\n",
        "score = dtree.score(Xdt_test, ydt_test) # Returns 1.0 for training data which is good :) \n",
        "print(\"Score/Accuracy of decision tree on testing data: \"+ str(score))"
      ],
      "metadata": {
        "id": "io8-k2M-prgl",
        "colab": {
          "base_uri": "https://localhost:8080/"
        },
        "outputId": "de711453-438e-49fa-c5b8-3f88a3e53662"
      },
      "execution_count": 12,
      "outputs": [
        {
          "output_type": "stream",
          "name": "stdout",
          "text": [
            "Score/Accuracy of decision tree on testing data: 0.9365079365079365\n"
          ]
        }
      ]
    },
    {
      "cell_type": "markdown",
      "source": [
        "# Question 9 (20 points)\n",
        "\n",
        "Show the classification report for the built model. In the text cell, following the code block for question 9, descibe what findings can be infered from the classification report. Mention at least 3 observations."
      ],
      "metadata": {
        "id": "3VYbQk6ZqsjC"
      }
    },
    {
      "cell_type": "code",
      "source": [
        "##### Code block for Question 9\n",
        "#from sklearn.metrics import classification_report\n",
        "\"\"\"\n",
        "https://scikit-learn.org/stable/modules/generated/sklearn.metrics.classification_report.html\n",
        "sklearn.metrics.classification_report(y_true, y_pred, *, labels=None, target_names=None, \n",
        "sample_weight=None, digits=2, output_dict=False, zero_division='warn')[source]\n",
        "\"\"\"\n",
        "ydt_predictions = dtree.predict(Xdt_test)\n",
        "print(classification_report(ydt_test, ydt_predictions, target_names=target_names))"
      ],
      "metadata": {
        "id": "qRZWpYIBq0aA",
        "colab": {
          "base_uri": "https://localhost:8080/"
        },
        "outputId": "5e06f5d9-655d-4897-a0dd-f7c8e50e44aa"
      },
      "execution_count": 13,
      "outputs": [
        {
          "output_type": "stream",
          "name": "stdout",
          "text": [
            "              precision    recall  f1-score   support\n",
            "\n",
            "     class_0       1.00      0.89      0.94        19\n",
            "     class_1       0.92      0.92      0.92        26\n",
            "     class_2       0.90      1.00      0.95        18\n",
            "\n",
            "    accuracy                           0.94        63\n",
            "   macro avg       0.94      0.94      0.94        63\n",
            "weighted avg       0.94      0.94      0.94        63\n",
            "\n"
          ]
        }
      ]
    },
    {
      "cell_type": "markdown",
      "source": [
        "Textual answer to question 9 goes here.<br>\n",
        "This looks so much clearner than the perceptron results. Everything is above 0.89. This makes me suspicious, but based on the data and it's origin I can see it going this way. \n",
        "\n",
        "All classes are represented fairly equaly for every metric. I do not see any siginificant diference. \n",
        "\n",
        "If you run it on training data it is 1.0 all around which seems to match my assumptions of a DT algorithm. "
      ],
      "metadata": {
        "id": "HeH9Cdnzq1QF"
      }
    },
    {
      "cell_type": "markdown",
      "source": [
        "# Question 10 (30 points)\n",
        "\n",
        "Use the trained model to make predictions on the test set. Output AND plot the confusion matrix from the model's predictions. \n",
        "\n",
        "In the second code cell, plot side by side: On the left side, the test set and its labels (using features Alcohol as the X axis and Alcalinity of Ash as the Y axis) with each point colored depending its class label. On the right side, the actual predictions (use the same Alcohol as the X axis and Alcalinity of Ash as the Y axis) with each point colored depending on its class label."
      ],
      "metadata": {
        "id": "CIqq_7v0rIhB"
      }
    },
    {
      "cell_type": "code",
      "source": [
        "##### Code block for Question 10 - part 1\n",
        "conf_mat_dt = confusion_matrix(ydt_test, ydt_predictions)\n",
        "print(conf_mat_dt)\n",
        "# Plotting of conf matrix\n",
        "conf_mat_dt_display = ConfusionMatrixDisplay(confusion_matrix=conf_mat_dt, display_labels=wine_dt['target_names'])\n",
        "conf_mat_dt_display.plot()"
      ],
      "metadata": {
        "id": "GFT8khVUrQ_2",
        "colab": {
          "base_uri": "https://localhost:8080/",
          "height": 355
        },
        "outputId": "011b992c-3a4e-4bfb-8392-957f3f573bfe"
      },
      "execution_count": 14,
      "outputs": [
        {
          "output_type": "stream",
          "name": "stdout",
          "text": [
            "[[17  2  0]\n",
            " [ 0 24  2]\n",
            " [ 0  0 18]]\n"
          ]
        },
        {
          "output_type": "execute_result",
          "data": {
            "text/plain": [
              "<sklearn.metrics._plot.confusion_matrix.ConfusionMatrixDisplay at 0x7f9f533d39d0>"
            ]
          },
          "metadata": {},
          "execution_count": 14
        },
        {
          "output_type": "display_data",
          "data": {
            "text/plain": [
              "<Figure size 432x288 with 2 Axes>"
            ],
            "image/png": "[encoded data removed]"
          },
          "metadata": {}
        }
      ]
    },
    {
      "cell_type": "code",
      "source": [
        "##### Code block for Question 10 - part 2\n",
        "alch_i = 0\n",
        "ash_i = 3\n",
        "alch_test_X = Xdt_test[:, alch_i]\n",
        "ash_test_X = Xdt_test[:, ash_i]\n",
        "\n",
        "\n",
        "f, (ax1, ax2) = plt.subplots(1, 2, sharey=False, figsize=(10,4))\n",
        "ax1.scatter(alch_test_X, ash_test_X, c=ydt_test, s=50, cmap='rainbow', edgecolor=\"black\")\n",
        "ax1.set_title('Alcalinity vs Alchohol w/ Labels')\n",
        "\n",
        "\n",
        "ax2.scatter(alch_test_X, ash_test_X, c=ydt_predictions, s=50, cmap='rainbow', edgecolor=\"black\")  \n",
        "ax2.set_title('Alcalinity vs Alchohol w/ Predictions')"
      ],
      "metadata": {
        "id": "Zoh1vJDArQ_3",
        "colab": {
          "base_uri": "https://localhost:8080/",
          "height": 301
        },
        "outputId": "4cfb12ed-e3a1-4d5b-9406-73dfdcbf273b"
      },
      "execution_count": 13,
      "outputs": [
        {
          "output_type": "execute_result",
          "data": {
            "text/plain": [
              "Text(0.5, 1.0, 'Alchalinity vs Alchohol w/ Predictions')"
            ]
          },
          "metadata": {},
          "execution_count": 13
        },
        {
          "output_type": "display_data",
          "data": {
            "text/plain": [
              "<Figure size 720x288 with 2 Axes>"
            ],
            "image/png": "[encoded data removed]"
          },
          "metadata": {}
        }
      ]
    },
    {
      "cell_type": "markdown",
      "source": [
        "# Question 11 (30 points) \n",
        "\n",
        "a) Do the plot right plot on Question 10 - part 2 match the confusion matrix of part 1?\n",
        "\n",
        "b) Any interesting observations from the predictions and the model performance? (write at least 2)\n",
        "\n",
        "c) Plot the figure from question 10 - part 2 using the `visualize_classifier` function given during the class example from 2/20/2023."
      ],
      "metadata": {
        "id": "MoOX9SsqrY1m"
      }
    },
    {
      "cell_type": "markdown",
      "source": [
        "Textual answer to question 11 a goes here.<br>\n",
        "This is a good match to the matrix. I can see 3 clearly separable classes with roughly even distribution (17-24-18 for True Positives on the confusion matrix). Counting each gets a few more of each class (roughly 18-25-18) which fills in the remaining boxes of the matrix.  \n"
      ],
      "metadata": {
        "id": "qDsw0eoyrY1n"
      }
    },
    {
      "cell_type": "markdown",
      "source": [
        "Textual answer to question 11 b goes here.<br>\n",
        "Did really well compared to the perceptron.However, the confusion matrix in 3x3 is a bit more difficult to interpret compared to the 2x2. For example, True Negative requires summing different sections per class.\n",
        "\n",
        "Overall it is interesting how even this model is at identifying each of the 3 classes. Perhaps after seeing what the perceptron did I have warped expectations for this task."
      ],
      "metadata": {
        "id": "5CBnH3bQrY1o"
      }
    },
    {
      "cell_type": "code",
      "source": [
        "##### Code block for Question 11 - part c\n",
        "# Copied from class example, as required.\n",
        "def visualize_classifier(model, X, y, ax=None, cmap='rainbow'):\n",
        "    ax = ax or plt.gca()\n",
        "    ax.set_title(\"Visualization of Decision Tree Classifier (Alchohol vs Alcalinity of Ash)\")\n",
        "    # Plot the training points\n",
        "    ax.scatter(X[:, 0], X[:, 1], c=y, s=30, cmap=cmap,\n",
        "               clim=(y.min(), y.max()), zorder=3)\n",
        "    ax.axis('tight')\n",
        "    ax.axis('off')\n",
        "    xlim = ax.get_xlim()\n",
        "    ylim = ax.get_ylim()\n",
        "    \n",
        "    # fit the estimator\n",
        "    model.fit(X, y)\n",
        "    xx, yy = np.meshgrid(np.linspace(*xlim, num=200),\n",
        "                         np.linspace(*ylim, num=200))\n",
        "    Z = model.predict(np.c_[xx.ravel(), yy.ravel()]).reshape(xx.shape)\n",
        "\n",
        "    # Create a color plot with the results\n",
        "    n_classes = len(np.unique(y))\n",
        "    contours = ax.contourf(xx, yy, Z, alpha=0.3,\n",
        "                           levels=np.arange(n_classes + 1) - 0.5,\n",
        "                           cmap=cmap, zorder=1)\n",
        "\n",
        "    ax.set(xlim=xlim, ylim=ylim)\n",
        "     \n",
        "\n",
        "visualize_classifier(DecisionTreeClassifier(), Xdt_train[:,[0,3]], ydt_train)"
      ],
      "metadata": {
        "id": "JU01ze5mryO5",
        "colab": {
          "base_uri": "https://localhost:8080/",
          "height": 264
        },
        "outputId": "e2cdad29-1c08-4cc5-ee7b-7f3488f75294"
      },
      "execution_count": 36,
      "outputs": [
        {
          "output_type": "display_data",
          "data": {
            "text/plain": [
              "<Figure size 432x288 with 1 Axes>"
            ],
            "image/png": "[encoded data removed]"
          },
          "metadata": {}
        }
      ]
    },
    {
      "cell_type": "markdown",
      "source": [
        "# Question 12 (10 points)\n",
        "\n",
        "Reload the Wine dataset and split the dataset into a testing and a training set using 65% of the data for training and the rest for testing. Use the built-in sklearn functionality for this, any other way will not be graded."
      ],
      "metadata": {
        "id": "VyZzK3XpsBgd"
      }
    },
    {
      "cell_type": "code",
      "source": [
        "##### Code block for Question 12\n",
        "##### Code block for Question 7\n",
        "wine_lr = datasets.load_wine()\n",
        "Xlr = wine_lr['data']\n",
        "ylr = wine_lr['target']\n",
        "Xlr_train, Xlr_test, ylr_train, ylr_test = train_test_split(Xlr, ylr, test_size=0.35, random_state=seed)\n"
      ],
      "metadata": {
        "id": "hGTZs31MsBge"
      },
      "execution_count": 16,
      "outputs": []
    },
    {
      "cell_type": "markdown",
      "source": [
        "# Question 13 (30 points)\n",
        "\n",
        "Use the Logistic Regression (with as this is a multi-class problem, use the **One Vs Rest algorithm** we must use `liblinear` solver and the correct seed) to build a model on the training set and report the model's accuracy."
      ],
      "metadata": {
        "id": "FTWIgD0rsBge"
      }
    },
    {
      "cell_type": "code",
      "source": [
        "##### Code block for Question 13\n",
        "from sklearn.linear_model import LogisticRegression\n",
        "logreg = LogisticRegression(random_state=seed, solver='liblinear')\n",
        "logreg.fit(Xlr_train ,ylr_train)\n",
        "score = logreg.score(Xlr_test, ylr_test)\n",
        "print(\"Score/Accuracy of Logistic Regresson (OnevsRest) on testing data: \"+ str(score))"
      ],
      "metadata": {
        "id": "7uu_vP4OsBgf",
        "colab": {
          "base_uri": "https://localhost:8080/"
        },
        "outputId": "3577dee8-f3e4-4c1f-9502-f815d751a97c"
      },
      "execution_count": 26,
      "outputs": [
        {
          "output_type": "stream",
          "name": "stdout",
          "text": [
            "Score/Accuracy of Logistic Regresson (OnevsRest) on testing data: 0.9523809523809523\n"
          ]
        }
      ]
    },
    {
      "cell_type": "markdown",
      "source": [
        "# Question 14 (20 points)\n",
        "\n",
        "Show the classification report for the built model. In the text cell, following the code block for question 14, descibe what findings can be infered from the classification report. Mention at least 3 observations."
      ],
      "metadata": {
        "id": "nU8SRq6TsBgf"
      }
    },
    {
      "cell_type": "code",
      "source": [
        "##### Code block for Question 14\n",
        "\"\"\"\n",
        "https://scikit-learn.org/stable/modules/generated/sklearn.metrics.classification_report.html\n",
        "sklearn.metrics.classification_report(y_true, y_pred, *, labels=None, target_names=None, \n",
        "sample_weight=None, digits=2, output_dict=False, zero_division='warn')[source]\n",
        "\"\"\"\n",
        "ylr_predictions = logreg.predict(Xlr_test)\n",
        "print(classification_report(ylr_test, ylr_predictions, target_names=target_names))"
      ],
      "metadata": {
        "id": "pXIQ7hO6sBgf",
        "colab": {
          "base_uri": "https://localhost:8080/"
        },
        "outputId": "5e14d7ec-89c5-47e1-c6a0-2e8460431a44"
      },
      "execution_count": 27,
      "outputs": [
        {
          "output_type": "stream",
          "name": "stdout",
          "text": [
            "              precision    recall  f1-score   support\n",
            "\n",
            "     class_0       1.00      0.95      0.97        19\n",
            "     class_1       0.96      0.92      0.94        26\n",
            "     class_2       0.90      1.00      0.95        18\n",
            "\n",
            "    accuracy                           0.95        63\n",
            "   macro avg       0.95      0.96      0.95        63\n",
            "weighted avg       0.95      0.95      0.95        63\n",
            "\n"
          ]
        }
      ]
    },
    {
      "cell_type": "markdown",
      "source": [
        "Textual answer to question 14 goes here.<br>\n",
        "-This classifier was slightly better than the decision tree classifier, I wouldnt say significantly but it has some improvment for this seed at least.\n",
        "\n",
        "-Overall it is almost perfect at classifying the wine \n",
        "\n",
        "-Class_2 has .90 precision which is the lowest value on the chart, though it has 1.0 recall in this case. "
      ],
      "metadata": {
        "id": "LVep3OJ1sBgf"
      }
    },
    {
      "cell_type": "markdown",
      "source": [
        "# Question 15 (30 points)\n",
        "\n",
        "Use the trained model to make predictions on the test set. Output AND plot the confusion matrix from the model's predictions. \n",
        "\n",
        "In the second code cell, plot side by side: On the left side, the test set and its labels (using features Alcohol as the X axis and Alcalinity of Ash as the Y axis) with each point colored depending its class label. On the right side, the actual predictions (use the same Alcohol as the X axis and Alcalinity of Ash as the Y axis) with each point colored depending on its class label."
      ],
      "metadata": {
        "id": "1DQxkgAbsBgg"
      }
    },
    {
      "cell_type": "code",
      "source": [
        "##### Code block for Question 15 - part 1\n",
        "conf_mat_lr = confusion_matrix(ylr_test, ylr_predictions)\n",
        "print(conf_mat_lr)\n",
        "# Plotting of conf matrix\n",
        "conf_mat_lr_display = ConfusionMatrixDisplay(confusion_matrix=conf_mat_lr, display_labels=wine_lr['target_names'])\n",
        "conf_mat_lr_display.plot()"
      ],
      "metadata": {
        "id": "l9A4AifNsBgg",
        "colab": {
          "base_uri": "https://localhost:8080/",
          "height": 355
        },
        "outputId": "72b2ec6b-9874-4655-9fde-b42abc01943e"
      },
      "execution_count": 28,
      "outputs": [
        {
          "output_type": "stream",
          "name": "stdout",
          "text": [
            "[[18  1  0]\n",
            " [ 0 24  2]\n",
            " [ 0  0 18]]\n"
          ]
        },
        {
          "output_type": "execute_result",
          "data": {
            "text/plain": [
              "<sklearn.metrics._plot.confusion_matrix.ConfusionMatrixDisplay at 0x7f7984b91fd0>"
            ]
          },
          "metadata": {},
          "execution_count": 28
        },
        {
          "output_type": "display_data",
          "data": {
            "text/plain": [
              "<Figure size 432x288 with 2 Axes>"
            ],
            "image/png": "[encoded data removed]"
          },
          "metadata": {}
        }
      ]
    },
    {
      "cell_type": "code",
      "source": [
        "##### Code block for Question 15 - part 2\n",
        "##### Code block for Question 10 - part 2\n",
        "alch_i = 0\n",
        "ash_i = 3\n",
        "alch_test_X = Xlr_test[:, alch_i]\n",
        "ash_test_X = Xlr_test[:, ash_i]\n",
        "\n",
        "\n",
        "f, (ax1, ax2) = plt.subplots(1, 2, sharey=False, figsize=(10,4))\n",
        "ax1.scatter(alch_test_X, ash_test_X, c=ylr_test, s=50, cmap='rainbow', edgecolor=\"black\")\n",
        "ax1.set_title('Alcalinity vs Alchohol w/ Labels')\n",
        "\n",
        "\n",
        "ax2.scatter(alch_test_X, ash_test_X, c=ylr_predictions, s=50, cmap='rainbow', edgecolor=\"black\")  \n",
        "ax2.set_title('Alcalinity vs Alchohol w/ Predictions')"
      ],
      "metadata": {
        "id": "wF7X9vnGsBgg",
        "colab": {
          "base_uri": "https://localhost:8080/",
          "height": 301
        },
        "outputId": "6564920a-87cf-4534-e247-305a39de5962"
      },
      "execution_count": 31,
      "outputs": [
        {
          "output_type": "execute_result",
          "data": {
            "text/plain": [
              "Text(0.5, 1.0, 'Alchalinity vs Alchohol w/ Predictions')"
            ]
          },
          "metadata": {},
          "execution_count": 31
        },
        {
          "output_type": "display_data",
          "data": {
            "text/plain": [
              "<Figure size 720x288 with 2 Axes>"
            ],
            "image/png": "[encoded data removed]"
          },
          "metadata": {}
        }
      ]
    },
    {
      "cell_type": "markdown",
      "source": [
        "# Question 16 (20 points) \n",
        "\n",
        "a) Do the plot right plot on Question 15 - part 2 match the confusion matrix of part 1?\n",
        "\n",
        "b) Any interesting observations from the predictions and the model performance? (write at least 2)"
      ],
      "metadata": {
        "id": "7Fh0OKRzsBgh"
      }
    },
    {
      "cell_type": "markdown",
      "source": [
        "Textual answer to question 16 a goes here.<br>\n",
        "Yes, the predictiosn appear to match the confustion matrix from pt1. Each class has a similar number classified as the 'True Positives' from the confusion matrix (diagonals)"
      ],
      "metadata": {
        "id": "67skrMZwsBgh"
      }
    },
    {
      "cell_type": "markdown",
      "source": [
        "Textual answer to question 16 b goes here.<br>\n",
        "This model performed almost identically to the decision tree classifier. The graphs are almost identicle. \n",
        "\n",
        "It apepars to only have miss-classified 3 instances based on the confusion matrix. I would like to see how it does with some fresh entries. \n",
        "\n",
        "\n"
      ],
      "metadata": {
        "id": "bWus1xG9sBgh"
      }
    },
    {
      "cell_type": "markdown",
      "source": [
        "# Question 17 (10 points)\n",
        "\n",
        "Create AND display dataframe containing in each row the accruacy, precision, recall for each of the models built. \n",
        "\n",
        "In the textual answer cell, discuss which one is the best performing model and why?"
      ],
      "metadata": {
        "id": "W888Kt2Btame"
      }
    },
    {
      "cell_type": "code",
      "source": [
        "##### Code block for Question 17\n",
        "#accruacy, precision, recall \n",
        "from sklearn.metrics import precision_recall_fscore_support as prf\n",
        "from sklearn.metrics import accuracy_score as acc\n",
        "\n",
        "#Perceptron\n",
        "Pacc = acc(y_test, y_predictions)\n",
        "P = prf(y_test, y_predictions, average='macro')\n",
        "Pprec = P[0]\n",
        "Prec = P[1]\n",
        "# Dtree\n",
        "Dacc = acc(ydt_test, ydt_predictions)\n",
        "D = prf(ydt_test, ydt_predictions, average='macro')\n",
        "Dprec = D[0]\n",
        "Drec = D[1]\n",
        "# log reg\n",
        "Lacc = acc(ylr_test, ylr_predictions)\n",
        "L = prf(ylr_test, ylr_predictions, average='macro')\n",
        "Lprec = L[0]\n",
        "Lrec = L[1]\n",
        "\n",
        "aggregate = {'accuracy':[Pacc, Dacc, Lacc], 'precision':[Pprec, Dprec, Lprec], 'recall':[Prec, Drec, Lrec]}\n",
        "df = pd.DataFrame(data=aggregate, index=['Perceptron', 'Decision Tree', 'Logistic Regression'])\n",
        "df #This looks nicer than a console print, at least in this notebook.\n",
        "#print(df)"
      ],
      "metadata": {
        "id": "WdrGJIy3tZlc",
        "colab": {
          "base_uri": "https://localhost:8080/",
          "height": 143
        },
        "outputId": "ef6c1410-c300-4b36-b008-f323fab6323e"
      },
      "execution_count": 66,
      "outputs": [
        {
          "output_type": "execute_result",
          "data": {
            "text/plain": [
              "                     accuracy  precision    recall\n",
              "Perceptron           0.673913   0.821429  0.605263\n",
              "Decision Tree        0.936508   0.941026  0.939271\n",
              "Logistic Regression  0.952381   0.953333  0.956815"
            ],
            "text/html": [
              "\n",
              "  <div id=\"df-502169b8-d0de-4fba-91ec-57a1d29c0296\">\n",
              "    <div class=\"colab-df-container\">\n",
              "      <div>\n",
              "<style scoped>\n",
              "    .dataframe tbody tr th:only-of-type {\n",
              "        vertical-align: middle;\n",
              "    }\n",
              "\n",
              "    .dataframe tbody tr th {\n",
              "        vertical-align: top;\n",
              "    }\n",
              "\n",
              "    .dataframe thead th {\n",
              "        text-align: right;\n",
              "    }\n",
              "</style>\n",
              "<table border=\"1\" class=\"dataframe\">\n",
              "  <thead>\n",
              "    <tr style=\"text-align: right;\">\n",
              "      <th></th>\n",
              "      <th>accuracy</th>\n",
              "      <th>precision</th>\n",
              "      <th>recall</th>\n",
              "    </tr>\n",
              "  </thead>\n",
              "  <tbody>\n",
              "    <tr>\n",
              "      <th>Perceptron</th>\n",
              "      <td>0.673913</td>\n",
              "      <td>0.821429</td>\n",
              "      <td>0.605263</td>\n",
              "    </tr>\n",
              "    <tr>\n",
              "      <th>Decision Tree</th>\n",
              "      <td>0.936508</td>\n",
              "      <td>0.941026</td>\n",
              "      <td>0.939271</td>\n",
              "    </tr>\n",
              "    <tr>\n",
              "      <th>Logistic Regression</th>\n",
              "      <td>0.952381</td>\n",
              "      <td>0.953333</td>\n",
              "      <td>0.956815</td>\n",
              "    </tr>\n",
              "  </tbody>\n",
              "</table>\n",
              "</div>\n",
              "      <button class=\"colab-df-convert\" onclick=\"convertToInteractive('df-502169b8-d0de-4fba-91ec-57a1d29c0296')\"\n",
              "              title=\"Convert this dataframe to an interactive table.\"\n",
              "              style=\"display:none;\">\n",
              "        \n",
              "  <svg xmlns=\"http://www.w3.org/2000/svg\" height=\"24px\"viewBox=\"0 0 24 24\"\n",
              "       width=\"24px\">\n",
              "    <path d=\"M0 0h24v24H0V0z\" fill=\"none\"/>\n",
              "    <path d=\"M18.56 5.44l.94 2.06.94-2.06 2.06-.94-2.06-.94-.94-2.06-.94 2.06-2.06.94zm-11 1L8.5 8.5l.94-2.06 2.06-.94-2.06-.94L8.5 2.5l-.94 2.06-2.06.94zm10 10l.94 2.06.94-2.06 2.06-.94-2.06-.94-.94-2.06-.94 2.06-2.06.94z\"/><path d=\"M17.41 7.96l-1.37-1.37c-.4-.4-.92-.59-1.43-.59-.52 0-1.04.2-1.43.59L10.3 9.45l-7.72 7.72c-.78.78-.78 2.05 0 2.83L4 21.41c.39.39.9.59 1.41.59.51 0 1.02-.2 1.41-.59l7.78-7.78 2.81-2.81c.8-.78.8-2.07 0-2.86zM5.41 20L4 18.59l7.72-7.72 1.47 1.35L5.41 20z\"/>\n",
              "  </svg>\n",
              "      </button>\n",
              "      \n",
              "  <style>\n",
              "    .colab-df-container {\n",
              "      display:flex;\n",
              "      flex-wrap:wrap;\n",
              "      gap: 12px;\n",
              "    }\n",
              "\n",
              "    .colab-df-convert {\n",
              "      background-color: #E8F0FE;\n",
              "      border: none;\n",
              "      border-radius: 50%;\n",
              "      cursor: pointer;\n",
              "      display: none;\n",
              "      fill: #1967D2;\n",
              "      height: 32px;\n",
              "      padding: 0 0 0 0;\n",
              "      width: 32px;\n",
              "    }\n",
              "\n",
              "    .colab-df-convert:hover {\n",
              "      background-color: #E2EBFA;\n",
              "      box-shadow: 0px 1px 2px rgba(60, 64, 67, 0.3), 0px 1px 3px 1px rgba(60, 64, 67, 0.15);\n",
              "      fill: #174EA6;\n",
              "    }\n",
              "\n",
              "    [theme=dark] .colab-df-convert {\n",
              "      background-color: #3B4455;\n",
              "      fill: #D2E3FC;\n",
              "    }\n",
              "\n",
              "    [theme=dark] .colab-df-convert:hover {\n",
              "      background-color: #434B5C;\n",
              "      box-shadow: 0px 1px 3px 1px rgba(0, 0, 0, 0.15);\n",
              "      filter: drop-shadow(0px 1px 2px rgba(0, 0, 0, 0.3));\n",
              "      fill: #FFFFFF;\n",
              "    }\n",
              "  </style>\n",
              "\n",
              "      <script>\n",
              "        const buttonEl =\n",
              "          document.querySelector('#df-502169b8-d0de-4fba-91ec-57a1d29c0296 button.colab-df-convert');\n",
              "        buttonEl.style.display =\n",
              "          google.colab.kernel.accessAllowed ? 'block' : 'none';\n",
              "\n",
              "        async function convertToInteractive(key) {\n",
              "          const element = document.querySelector('#df-502169b8-d0de-4fba-91ec-57a1d29c0296');\n",
              "          const dataTable =\n",
              "            await google.colab.kernel.invokeFunction('convertToInteractive',\n",
              "                                                     [key], {});\n",
              "          if (!dataTable) return;\n",
              "\n",
              "          const docLinkHtml = 'Like what you see? Visit the ' +\n",
              "            '<a target=\"_blank\" href=https://colab.research.google.com/notebooks/data_table.ipynb>data table notebook</a>'\n",
              "            + ' to learn more about interactive tables.';\n",
              "          element.innerHTML = '';\n",
              "          dataTable['output_type'] = 'display_data';\n",
              "          await google.colab.output.renderOutput(dataTable, element);\n",
              "          const docLink = document.createElement('div');\n",
              "          docLink.innerHTML = docLinkHtml;\n",
              "          element.appendChild(docLink);\n",
              "        }\n",
              "      </script>\n",
              "    </div>\n",
              "  </div>\n",
              "  "
            ]
          },
          "metadata": {},
          "execution_count": 66
        }
      ]
    },
    {
      "cell_type": "markdown",
      "source": [
        "Textual answer to question 17 goes here.<br>\n",
        "Overall Logistic Regression preformed the best by a slight margin of the Decision Tree algorithm. The difference is calculable on this seed at least, but may not be significant overall. Perceptron clearly preformed the worst of the three while only managing two classes instead of three, indicating that it is not very well suited for this data set. That said, it wasn't a complete failure as its calcualted precision was 82% and a recall of 60% is at least over half. "
      ],
      "metadata": {
        "id": "VEnK8F_Lt5V8"
      }
    },
    {
      "cell_type": "markdown",
      "source": [
        "# Graduate Student Question: (50 points)\n",
        "\n",
        "Modify the `visualize_classifier` function provided during the 2/20/2023 class to be able to work in 3 dimensions (currently only works in two dimensions). Take the Decision Tree classifier model from Question 8 and plot the separation of the classes using the following axes: (Alcohol as the X axis and Alcalinity of Ash as the Y axis, and Ash as the Z axis).\n"
      ],
      "metadata": {
        "id": "ziqaH6VEuBJK"
      }
    },
    {
      "cell_type": "code",
      "source": [
        "##### Code block for Graduate Student Question\n",
        "\n",
        "\n",
        "def visualize_classifier_3D(model, X, y, ax=None, cmap='rainbow'):\n",
        "    ax = ax or plt.gca()\n",
        "    \n",
        "    # Plot the training points\n",
        "    ax.scatter(X[:, 0], X[:, 1], c=y, s=30, cmap=cmap,\n",
        "               clim=(y.min(), y.max()), zorder=3)\n",
        "    ax.axis('tight')\n",
        "    ax.axis('off')\n",
        "    xlim = ax.get_xlim()\n",
        "    zlim = ax.get_zlim()\n",
        "    ylim = ax.get_ylim()\n",
        "    \n",
        "    # fit the estimator\n",
        "    model.fit(X, y)\n",
        "    xx, yy = np.meshgrid(np.linspace(*xlim, num=200),\n",
        "                         np.linspace(*ylim, num=200))\n",
        "    Z = model.predict(np.c_[xx.ravel(), yy.ravel()]).reshape(xx.shape)\n",
        "\n",
        "    # Create a color plot with the results\n",
        "    n_classes = len(np.unique(y))\n",
        "    contours = ax.contourf(xx, yy, Z, alpha=0.3,\n",
        "                           levels=np.arange(n_classes + 1) - 0.5,\n",
        "                           cmap=cmap, zorder=1)\n",
        "\n",
        "    ax.set(xlim=xlim, ylim=ylim)\n",
        "     \n",
        "visualize_classifier_3D()"
      ],
      "metadata": {
        "id": "a17SE-ZcuALz"
      },
      "execution_count": 1,
      "outputs": []
    }
  ]
}